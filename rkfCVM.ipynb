{
 "cells": [
  {
   "cell_type": "code",
   "execution_count": 37,
   "metadata": {},
   "outputs": [],
   "source": [
    "import numpy as np\n",
    "\n",
    "def debug():\n",
    "    print(' kernel: ' + KERNEL)\n",
    "    print('      d: ' + str(d))\n",
    "    print('      D: ' + str(D))\n",
    "    print('epsilon: ' + str(epsilon))\n",
    "    print('**************\\n')"
   ]
  },
  {
   "cell_type": "code",
   "execution_count": 66,
   "metadata": {},
   "outputs": [],
   "source": [
    "KERNEL  = 'G'      # G => Gaussian, L => Laplacian, C => Cauchy\n",
    "d       = 28 * 28  # dimension of input data\n",
    "epsilon = 0.1      # acceptable error for kernel\n",
    "\n",
    "def compute_D(d, epsilon):\n",
    "    return int(0.1 * d * np.log(epsilon ** (-2))) # * (epsilon ** (-2))\n",
    "\n",
    "D       = compute_D(d, epsilon)\n",
    "\n",
    "# w is a d-dimensional vector\n",
    "def pdf(w):\n",
    "    if KERNEL == 'G':\n",
    "        # (2pi)^(-D/2) e^(-0.5 ||w||_2^2)\n",
    "        return ((2 * np.pi) ** (-D / 2)) * np.exp(-0.5 * (np.linalg.norm(w) ** 2))\n",
    "\n",
    "# Monte-Carlo Rejection Sampling (https://en.wikipedia.org/wiki/Rejection_sampling)\n",
    "def sample(interval):\n",
    "    # computes max value of PDF; specific to kernel\n",
    "    pdf_max = 1\n",
    "    if KERNEL == 'G':\n",
    "        pdf_max = ((2 * np.pi) ** (-D / 2))\n",
    "\n",
    "    while True:\n",
    "        w = np.random.rand(1) * (interval[1] - interval[0]) + interval[0]\n",
    "        y = np.random.rand(1) * pdf_max\n",
    "\n",
    "        if y <= pdf(w):\n",
    "            return w\n",
    "\n",
    "# Random Features for Large-Scale Kernel Machines (Rahimi & Recht, 2007)\n",
    "# https://papers.nips.cc/paper/3182-random-features-for-large-scale-kernel-machines.pdf\n",
    "def z(x):\n",
    "    # normalize random vector to sampled norm\n",
    "    randoms = [np.random.rand(d) for _ in range(D)]\n",
    "    w = np.asarray([sample((-10, 10)) * (random / np.linalg.norm(random)) for random in randoms])\n",
    "    b = np.asarray([np.random.uniform(0, 2 * np.pi) for _ in range(D)])\n",
    "\n",
    "    return np.sqrt(2 / D) * np.cos(np.dot(w, x) + b)\n",
    "\n",
    "# uses random features to approximate the Gaussian kernel\n",
    "def K(x, y):\n",
    "    return np.dot(z(x).T, z(y))"
   ]
  }
 ],
 "metadata": {
  "kernelspec": {
   "display_name": "Python 3",
   "language": "python",
   "name": "python3"
  },
  "language_info": {
   "codemirror_mode": {
    "name": "ipython",
    "version": 3
   },
   "file_extension": ".py",
   "mimetype": "text/x-python",
   "name": "python",
   "nbconvert_exporter": "python",
   "pygments_lexer": "ipython3",
   "version": "3.6.6"
  }
 },
 "nbformat": 4,
 "nbformat_minor": 2
}
